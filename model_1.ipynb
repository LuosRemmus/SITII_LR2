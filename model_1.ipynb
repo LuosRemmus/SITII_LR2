{
  "cells": [
    {
      "cell_type": "markdown",
      "id": "7f7a9a92f63fa6d2",
      "metadata": {
        "id": "7f7a9a92f63fa6d2"
      },
      "source": [
        "# Линейная регрессия с L1/L2/ElasticNet-регуляризацией"
      ]
    },
    {
      "cell_type": "markdown",
      "id": "4ad3883b589700d1",
      "metadata": {
        "id": "4ad3883b589700d1"
      },
      "source": [
        "# Подключение библиотек"
      ]
    },
    {
      "cell_type": "code",
      "execution_count": 1,
      "id": "77377c91a6ea4dc0",
      "metadata": {
        "ExecuteTime": {
          "end_time": "2024-04-04T14:37:35.009098Z",
          "start_time": "2024-04-04T14:37:33.211061Z"
        },
        "id": "77377c91a6ea4dc0"
      },
      "outputs": [],
      "source": [
        "import numpy as np\n",
        "import pandas as pd\n",
        "from sklearn.pipeline import make_pipeline\n",
        "from sklearn.preprocessing import PolynomialFeatures\n",
        "from sklearn.linear_model import LinearRegression\n",
        "from sklearn.model_selection import cross_val_score, train_test_split\n",
        "from sklearn.metrics import mean_squared_error, r2_score\n",
        "from matplotlib import pyplot as plt"
      ]
    },
    {
      "cell_type": "markdown",
      "id": "c21e69b3",
      "metadata": {
        "id": "c21e69b3"
      },
      "source": [
        "# Объявление данных"
      ]
    },
    {
      "cell_type": "code",
      "execution_count": 2,
      "id": "b8fed9e2",
      "metadata": {
        "id": "b8fed9e2"
      },
      "outputs": [],
      "source": [
        "pd.set_option('display.max_columns', None)\n",
        "data = pd.read_parquet(r'data11.parquet')\n",
        "\n",
        "X = data.drop(['X0', 'X1', 'X2', 'X3', 'X4', 'X5', 'X6', 'X8'], axis = 1).values\n",
        "y = data['y'].values\n",
        "\n",
        "X_train, X_test, y_train, y_test = train_test_split(X, y, test_size=0.2, random_state=42)"
      ]
    },
    {
      "cell_type": "markdown",
      "id": "236297b065f5f6db",
      "metadata": {
        "id": "236297b065f5f6db"
      },
      "source": [
        "### Создаём пайплайны для регрессоров"
      ]
    },
    {
      "cell_type": "code",
      "execution_count": 3,
      "id": "ed2ebd294c1ffef2",
      "metadata": {
        "id": "ed2ebd294c1ffef2"
      },
      "outputs": [],
      "source": [
        "models = {\n",
        "    'Линейная регрессия': LinearRegression(),\n",
        "    'Полиномиальная регрессия d=2': make_pipeline(PolynomialFeatures(degree=2), LinearRegression()),\n",
        "}"
      ]
    },
    {
      "cell_type": "markdown",
      "id": "0fafd218",
      "metadata": {},
      "source": [
        "# Создаём график и функцию визуализации"
      ]
    },
    {
      "cell_type": "code",
      "execution_count": 11,
      "id": "31fbf682a60ba1c6",
      "metadata": {
        "colab": {
          "base_uri": "https://localhost:8080/",
          "height": 52
        },
        "id": "31fbf682a60ba1c6",
        "outputId": "9e781112-4858-44c5-d755-cd6bb3330fc1"
      },
      "outputs": [
        {
          "data": {
            "text/plain": [
              "<Figure size 700x1200 with 0 Axes>"
            ]
          },
          "metadata": {},
          "output_type": "display_data"
        }
      ],
      "source": [
        "plt.figure(figsize=(7, 12))\n",
        "\n",
        "def visualize(i, name, model):\n",
        "    X_plot = np.linspace(X.min(), X.max(), 100).reshape(-1, 1)\n",
        "    y_plot = model.predict(X)\n",
        "    \n",
        "    plt.subplot(3, 1, i)\n",
        "    plt.plot(X_plot, y_plot.reshape(-1, 1)[:X_plot.shape[0]])\n",
        "    plt.title(name)\n",
        "    plt.scatter(X_train.reshape(-1, 1)[:y_train.shape[0]], y_train.reshape(-1, 1), color='black')\n",
        "    plt.scatter(X_test.reshape(-1, 1)[:y_test.shape[0]], y_test.reshape(-1, 1), color='gold')"
      ]
    },
    {
      "cell_type": "markdown",
      "id": "a4a1b300ecff4598",
      "metadata": {
        "id": "a4a1b300ecff4598"
      },
      "source": [
        "# Обучаем модели и вычисляем метрики"
      ]
    },
    {
      "cell_type": "code",
      "execution_count": 14,
      "id": "290ce5f3",
      "metadata": {
        "colab": {
          "base_uri": "https://localhost:8080/",
          "height": 696
        },
        "id": "290ce5f3",
        "outputId": "0fead3b5-fb84-489b-93d3-ed97b6f698ed"
      },
      "outputs": [
        {
          "name": "stdout",
          "output_type": "stream",
          "text": [
            "Черные точки - Train\n",
            "Желтые точки - Test\n",
            "Линейная регрессия - MSE: 0.00, R2: 1.00, Cross-Val MSE: 0.00\n"
          ]
        }
      ],
      "source": [
        "print('Черные точки - Train')\n",
        "print('Желтые точки - Test')\n",
        "\n",
        "for i, (name, model) in enumerate(models.items(), 1):\n",
        "    model.fit(X_train, y_train)\n",
        "    y_pred = model.predict(X_test)\n",
        "    mse = mean_squared_error(y_test, y_pred)\n",
        "    r2 = r2_score(y_test, y_pred)\n",
        "    scores = cross_val_score(model, X_train, y_train, scoring=\"neg_mean_squared_error\", cv=5)\n",
        "    print(f\"{name} - MSE: {mse:.2f}, R2: {r2:.2f}, Cross-Val MSE: {-scores.mean():.2f}\")\n",
        "\n",
        "    visualize(i, name, model)\n",
        "plt.legend()\n",
        "plt.show()"
      ]
    }
  ],
  "metadata": {
    "colab": {
      "provenance": [],
      "toc_visible": true
    },
    "kernelspec": {
      "display_name": "Python 3",
      "language": "python",
      "name": "python3"
    },
    "language_info": {
      "codemirror_mode": {
        "name": "ipython",
        "version": 3
      },
      "file_extension": ".py",
      "mimetype": "text/x-python",
      "name": "python",
      "nbconvert_exporter": "python",
      "pygments_lexer": "ipython3",
      "version": "3.11.0"
    }
  },
  "nbformat": 4,
  "nbformat_minor": 5
}
